{
  "nbformat": 4,
  "nbformat_minor": 0,
  "metadata": {
    "colab": {
      "provenance": [],
      "authorship_tag": "ABX9TyPrs4/HXEhYnSDciS3E0OOc",
      "include_colab_link": true
    },
    "kernelspec": {
      "name": "python3",
      "display_name": "Python 3"
    },
    "language_info": {
      "name": "python"
    }
  },
  "cells": [
    {
      "cell_type": "markdown",
      "metadata": {
        "id": "view-in-github",
        "colab_type": "text"
      },
      "source": [
        "<a href=\"https://colab.research.google.com/github/SJkzk/Hypo_Adverse_ML/blob/main/newen_hypotension.ipynb\" target=\"_parent\"><img src=\"https://colab.research.google.com/assets/colab-badge.svg\" alt=\"Open In Colab\"/></a>"
      ]
    },
    {
      "cell_type": "code",
      "execution_count": null,
      "metadata": {
        "id": "c37Z2hCYFFdI"
      },
      "outputs": [],
      "source": [
        "import sklearn\n",
        "import pandas as pd\n",
        "import numpy as np\n",
        "import scipy.signal as sp\n",
        "import matplotlib.pyplot as plt\n",
        "# import vitaldb\n",
        "\n",
        "df_cases = pd.read_csv('https://api.vitaldb.net/cases') # 0~6387 entries, clinical info\n",
        "df_ids = pd.read_csv('https://api.vitaldb.net/trks') # ids of tracks \n",
        "# df_ids.describe()\n",
        "\n",
        "ids = range(1,200)    #1,12 is strage ,55,58 ;;;;;;     109 not accessible\n",
        "\n"
      ]
    },
    {
      "cell_type": "code",
      "source": [],
      "metadata": {
        "colab": {
          "base_uri": "https://localhost:8080/",
          "height": 138
        },
        "id": "UpmveFmh4ml2",
        "outputId": "24570f7d-d079-4097-d2eb-4cd74a56fb3d"
      },
      "execution_count": 1,
      "outputs": [
        {
          "output_type": "error",
          "ename": "SyntaxError",
          "evalue": "ignored",
          "traceback": [
            "\u001b[0;36m  File \u001b[0;32m\"<ipython-input-1-6cccf77dfa61>\"\u001b[0;36m, line \u001b[0;32m1\u001b[0m\n\u001b[0;31m    git remote add origin https://github.com/SJkzk/Hypo_Adverse_ML.git\u001b[0m\n\u001b[0m        ^\u001b[0m\n\u001b[0;31mSyntaxError\u001b[0m\u001b[0;31m:\u001b[0m invalid syntax\n"
          ]
        }
      ]
    },
    {
      "cell_type": "code",
      "source": [
        "caseids_ART= [] #id with error\n",
        "caseids_art_error= \"\" #id with error\n",
        "for theid in ids:\n",
        "  try:\n",
        "    ids = df_ids[(df_ids['tname'] == \"Solar8000/ART_MBP\") & (df_ids['caseid'] == theid)]['tid'].values[0]\n",
        "    # get the id of this case to search for its tracks infos.\n",
        "    df_MAP_1 = pd.read_csv(\"https://api.vitaldb.net/\"+ids)\n",
        "    # web for specific waves - CASE + TYPE\n",
        "    caseids_ART.append(theid) # NOTEDOWN cases with error in ART\n",
        "  except:\n",
        "    caseids_art_error = caseids_art_error +\" \"+str(theid) # NOTEDOWN cases with error in ART\n",
        "    pass\n",
        "  continue\n",
        "# print(caseids_art_error+\" don't have ART\")\n",
        "\n",
        "# print(caseids_ART)\n",
        "# use this for following iteratives"
      ],
      "metadata": {
        "id": "1j_WQoyyG1fH"
      },
      "execution_count": null,
      "outputs": []
    },
    {
      "cell_type": "markdown",
      "source": [
        "**step1:** Create Function to clear the hypotension\n",
        "\n",
        "\n"
      ],
      "metadata": {
        "id": "NmkVjoEpHZy1"
      }
    },
    {
      "cell_type": "code",
      "source": [
        "# TEST PART\n",
        "# !pip install vitaldb\n",
        "\n",
        "# df_ids[df_ids['caseid']==2]\n",
        "# df_MAP_1.head()"
      ],
      "metadata": {
        "id": "XYmVxLzKJpc1"
      },
      "execution_count": null,
      "outputs": []
    },
    {
      "cell_type": "markdown",
      "source": [
        "# hidden: the filter settings, for neorit"
      ],
      "metadata": {
        "id": "olLolBQhB-aA"
      }
    },
    {
      "cell_type": "code",
      "source": [
        "def _signal_filter_butterworth(signal, sampling_rate=1000, lowcut=None, highcut=None, order=5):\n",
        "    \"\"\"Filter a signal using IIR Butterworth SOS method.\"\"\"\n",
        "    freqs, filter_type = _signal_filter_sanitize(\n",
        "        lowcut=lowcut, highcut=highcut, sampling_rate=sampling_rate\n",
        "    )\n",
        "\n",
        "    sos = sp.butter(order, freqs, btype=filter_type, output=\"sos\", fs=sampling_rate)\n",
        "    filtered = sp.sosfiltfilt(sos, signal)\n",
        "    return filtered\n",
        "\n",
        "def _signal_filter_sanitize(lowcut=None, highcut=None, sampling_rate=1000, normalize=False):\n",
        "\n",
        "    # Sanity checks\n",
        "    if isinstance(highcut, int):\n",
        "        if sampling_rate <= 2 * highcut:\n",
        "            warn(\n",
        "                \"The sampling rate is too low. Sampling rate\"\n",
        "                \" must exceed the Nyquist rate to avoid aliasing problem.\"\n",
        "                f\" In this analysis, the sampling rate has to be higher than {2 * highcut} Hz\",\n",
        "                category=NeuroKitWarning,\n",
        "            )\n",
        "\n",
        "    # Replace 0 by none\n",
        "    if lowcut is not None and lowcut == 0:\n",
        "        lowcut = None\n",
        "    if highcut is not None and highcut == 0:\n",
        "        highcut = None\n",
        "\n",
        "    # Format\n",
        "    if lowcut is not None and highcut is not None:\n",
        "        if lowcut > highcut:\n",
        "            filter_type = \"bandstop\"\n",
        "        else:\n",
        "            filter_type = \"bandpass\"\n",
        "        freqs = [lowcut, highcut]\n",
        "    elif lowcut is not None:\n",
        "        freqs = [lowcut]\n",
        "        filter_type = \"highpass\"\n",
        "    elif highcut is not None:\n",
        "        freqs = [highcut]\n",
        "        filter_type = \"lowpass\"\n",
        "\n",
        "    # Normalize frequency to Nyquist Frequency (Fs/2).\n",
        "    # However, no need to normalize if `fs` argument is provided to the scipy filter\n",
        "    if normalize is True:\n",
        "        freqs = np.array(freqs) / (sampling_rate / 2)\n",
        "\n",
        "    return freqs, filter_type"
      ],
      "metadata": {
        "id": "Q9OIwlwPwQX0"
      },
      "execution_count": null,
      "outputs": []
    },
    {
      "cell_type": "code",
      "source": [
        "def Hypo_Clear(theid):\n",
        "  ids = df_ids[(df_ids['tname'] == \"Solar8000/ART_MBP\") & (df_ids['caseid'] == theid)]['tid'].values[0]\n",
        "  # get the id of this case to search for its tracks infos.\n",
        "\n",
        "  df_MAP_1 = pd.read_csv(\"https://api.vitaldb.net/\"+ids)\n",
        "  # web for specific waves - CASE + TYPE\n",
        "\n",
        "  # DRAW WAVEFORMS AND TIME DURATION OF ANAES\n",
        "  df_cases.loc[df_cases['caseid']==theid]\n",
        "  anesta = df_cases.loc[df_cases['caseid']==theid]['anestart'].values[0] # start of anesthesia\n",
        "  anesend = df_cases.loc[df_cases['caseid']==theid]['aneend'].values[0]\n",
        "\n",
        "  # plt.figure(figsize=(20,4))\n",
        "  # plt.plot(df_MAP_1['Time'],df_MAP_1['Solar8000/ART_MBP'])\n",
        "  # plt.axvline(anesta,color='r',linestyle='--')\n",
        "  # plt.axvline(anesend,color='r',linestyle='--')\n",
        "  # plt.ylim((-50,300))\n",
        "\n",
        "  median = df_MAP_1['Solar8000/ART_MBP'].median()\n",
        "  for x in df_MAP_1.index:\n",
        "    if df_MAP_1.loc[x, \"Solar8000/ART_MBP\"] < median-40 : #****paras\n",
        "      df_MAP_1.loc[x, \"Solar8000/ART_MBP\"] = np.nan\n",
        "  df_MAP_1['Solar8000/ART_MBP'].fillna(median, inplace=True)\n",
        "\n",
        "  sig = df_MAP_1[['Time','Solar8000/ART_MBP']]\n",
        "  filtered = _signal_filter_butterworth(sig['Solar8000/ART_MBP'], sampling_rate=200, highcut=6, order=6)  #6 6\n",
        "\n",
        "  wid_ra = [0,50]\n",
        "  peaks, properties = sp.find_peaks(filtered, prominence=30, width = wid_ra) #!!!!!!***para adjust!!\n",
        "  # plt.plot(df_MAP_1['Time'][peaks], filtered[peaks], \"x\",color='r')\n",
        "\n",
        "  results_half = sp.peak_widths(filtered, peaks, rel_height=0.9)\n",
        "\n",
        "  onsets = results_half[2].astype(int)\n",
        "  offsets = results_half[3].astype(int)\n",
        "  # plt.vlines(sig['Time'][onsets],-50,300,color='r',linestyles='dashed')\n",
        "  # plt.vlines(sig['Time'][offsets],-50,300,color='b',linestyles='dashed')\n",
        "\n",
        "  # remove with ips:\n",
        "  # del range\n",
        "  len_p = len(peaks)\n",
        "  # sig = df_MAP_1[['Time','Solar8000/ART_MBP']]\n",
        "  sig['Solar8000/ART_MBP'] = _signal_filter_butterworth(sig['Solar8000/ART_MBP'], sampling_rate=100, highcut=6, order=6)\n",
        "  for i in range(len_p):\n",
        "    # filtered[onsets[i]:offsets[i]] = median\n",
        "    if (results_half[0][i].astype(int) > wid_ra[1]):\n",
        "      onsets[i] = peaks[i]-wid_ra[1]\n",
        "      offsets[i] = peaks[i]+wid_ra[1]\n",
        "    sig['Solar8000/ART_MBP'][onsets[i]:offsets[i]] = np.nan\n",
        "\n",
        "  return df_MAP_1, sig\n",
        "    "
      ],
      "metadata": {
        "id": "TTomsazeWgq-"
      },
      "execution_count": null,
      "outputs": []
    },
    {
      "cell_type": "markdown",
      "source": [
        "#**执行台**\n",
        "\n",
        "1.   List item\n",
        "2.   List item\n",
        "\n"
      ],
      "metadata": {
        "id": "GPgceIy8CFa6"
      }
    },
    {
      "cell_type": "code",
      "source": [
        "ori, cleared = Hypo_Clear(1)\n",
        "plt.figure(figsize=(20,4))\n",
        "plt.plot(ori['Time'],ori['Solar8000/ART_MBP'])\n",
        "plt.figure(figsize=(20,4))\n",
        "plt.plot(cleared['Time'],cleared['Solar8000/ART_MBP'])\n",
        "\n",
        "plt.axhline(65,color='r',linestyle='--') # draw the \"hypotension bar\"\n",
        "plt.ylim((-50,300))"
      ],
      "metadata": {
        "colab": {
          "base_uri": "https://localhost:8080/",
          "height": 535
        },
        "id": "aomxreFmaR0o",
        "outputId": "42a452de-e9f4-492f-ff62-3d16320e9747"
      },
      "execution_count": null,
      "outputs": [
        {
          "output_type": "execute_result",
          "data": {
            "text/plain": [
              "(-50.0, 300.0)"
            ]
          },
          "metadata": {},
          "execution_count": 4
        },
        {
          "output_type": "display_data",
          "data": {
            "text/plain": [
              "<Figure size 1440x288 with 1 Axes>"
            ],
            "image/png": "[encoded data removed]"
          },
          "metadata": {
            "needs_background": "light"
          }
        },
        {
          "output_type": "display_data",
          "data": {
            "text/plain": [
              "<Figure size 1440x288 with 1 Axes>"
            ],
            "image/png": "[encoded data removed]"
          },
          "metadata": {
            "needs_background": "light"
          }
        }
      ]
    },
    {
      "cell_type": "code",
      "source": [
        "cleared\n",
        "N = len(cleared)\n",
        "n_index = [i for i in range(0,N,20)]  # start of every segement"
      ],
      "metadata": {
        "colab": {
          "base_uri": "https://localhost:8080/"
        },
        "id": "qjSVsjaNHBvO",
        "outputId": "d13ae46d-8b51-4cc5-913e-2c4b5fe18ca3"
      },
      "execution_count": null,
      "outputs": [
        {
          "output_type": "execute_result",
          "data": {
            "text/plain": [
              "[0,\n",
              " 20,\n",
              " 40,\n",
              " 60,\n",
              " 80,\n",
              " 100,\n",
              " 120,\n",
              " 140,\n",
              " 160,\n",
              " 180,\n",
              " 200,\n",
              " 220,\n",
              " 240,\n",
              " 260,\n",
              " 280,\n",
              " 300,\n",
              " 320,\n",
              " 340,\n",
              " 360,\n",
              " 380,\n",
              " 400,\n",
              " 420,\n",
              " 440,\n",
              " 460,\n",
              " 480,\n",
              " 500,\n",
              " 520,\n",
              " 540,\n",
              " 560,\n",
              " 580,\n",
              " 600,\n",
              " 620,\n",
              " 640,\n",
              " 660,\n",
              " 680,\n",
              " 700,\n",
              " 720,\n",
              " 740,\n",
              " 760,\n",
              " 780,\n",
              " 800,\n",
              " 820,\n",
              " 840,\n",
              " 860,\n",
              " 880,\n",
              " 900,\n",
              " 920,\n",
              " 940,\n",
              " 960,\n",
              " 980,\n",
              " 1000,\n",
              " 1020,\n",
              " 1040,\n",
              " 1060,\n",
              " 1080,\n",
              " 1100,\n",
              " 1120,\n",
              " 1140,\n",
              " 1160,\n",
              " 1180,\n",
              " 1200,\n",
              " 1220,\n",
              " 1240,\n",
              " 1260,\n",
              " 1280,\n",
              " 1300,\n",
              " 1320,\n",
              " 1340,\n",
              " 1360,\n",
              " 1380,\n",
              " 1400,\n",
              " 1420,\n",
              " 1440,\n",
              " 1460,\n",
              " 1480,\n",
              " 1500,\n",
              " 1520,\n",
              " 1540,\n",
              " 1560,\n",
              " 1580,\n",
              " 1600,\n",
              " 1620,\n",
              " 1640,\n",
              " 1660,\n",
              " 1680,\n",
              " 1700,\n",
              " 1720,\n",
              " 1740,\n",
              " 1760,\n",
              " 1780,\n",
              " 1800,\n",
              " 1820,\n",
              " 1840,\n",
              " 1860,\n",
              " 1880,\n",
              " 1900,\n",
              " 1920,\n",
              " 1940,\n",
              " 1960,\n",
              " 1980,\n",
              " 2000,\n",
              " 2020,\n",
              " 2040,\n",
              " 2060,\n",
              " 2080,\n",
              " 2100,\n",
              " 2120,\n",
              " 2140,\n",
              " 2160,\n",
              " 2180,\n",
              " 2200,\n",
              " 2220,\n",
              " 2240,\n",
              " 2260,\n",
              " 2280,\n",
              " 2300,\n",
              " 2320,\n",
              " 2340,\n",
              " 2360,\n",
              " 2380,\n",
              " 2400,\n",
              " 2420,\n",
              " 2440,\n",
              " 2460,\n",
              " 2480,\n",
              " 2500,\n",
              " 2520,\n",
              " 2540,\n",
              " 2560,\n",
              " 2580,\n",
              " 2600,\n",
              " 2620,\n",
              " 2640,\n",
              " 2660,\n",
              " 2680,\n",
              " 2700,\n",
              " 2720,\n",
              " 2740,\n",
              " 2760,\n",
              " 2780,\n",
              " 2800,\n",
              " 2820,\n",
              " 2840,\n",
              " 2860,\n",
              " 2880,\n",
              " 2900,\n",
              " 2920,\n",
              " 2940,\n",
              " 2960,\n",
              " 2980,\n",
              " 3000,\n",
              " 3020,\n",
              " 3040,\n",
              " 3060,\n",
              " 3080,\n",
              " 3100,\n",
              " 3120,\n",
              " 3140,\n",
              " 3160,\n",
              " 3180,\n",
              " 3200,\n",
              " 3220,\n",
              " 3240,\n",
              " 3260,\n",
              " 3280,\n",
              " 3300,\n",
              " 3320,\n",
              " 3340,\n",
              " 3360,\n",
              " 3380,\n",
              " 3400,\n",
              " 3420,\n",
              " 3440,\n",
              " 3460,\n",
              " 3480,\n",
              " 3500,\n",
              " 3520,\n",
              " 3540,\n",
              " 3560,\n",
              " 3580,\n",
              " 3600,\n",
              " 3620,\n",
              " 3640,\n",
              " 3660,\n",
              " 3680,\n",
              " 3700,\n",
              " 3720,\n",
              " 3740,\n",
              " 3760,\n",
              " 3780,\n",
              " 3800,\n",
              " 3820,\n",
              " 3840,\n",
              " 3860,\n",
              " 3880,\n",
              " 3900,\n",
              " 3920,\n",
              " 3940,\n",
              " 3960,\n",
              " 3980,\n",
              " 4000,\n",
              " 4020,\n",
              " 4040,\n",
              " 4060,\n",
              " 4080,\n",
              " 4100,\n",
              " 4120,\n",
              " 4140,\n",
              " 4160,\n",
              " 4180,\n",
              " 4200,\n",
              " 4220,\n",
              " 4240,\n",
              " 4260,\n",
              " 4280,\n",
              " 4300,\n",
              " 4320,\n",
              " 4340,\n",
              " 4360,\n",
              " 4380,\n",
              " 4400,\n",
              " 4420,\n",
              " 4440,\n",
              " 4460,\n",
              " 4480,\n",
              " 4500,\n",
              " 4520,\n",
              " 4540,\n",
              " 4560,\n",
              " 4580,\n",
              " 4600,\n",
              " 4620,\n",
              " 4640,\n",
              " 4660,\n",
              " 4680,\n",
              " 4700,\n",
              " 4720,\n",
              " 4740,\n",
              " 4760,\n",
              " 4780,\n",
              " 4800,\n",
              " 4820,\n",
              " 4840,\n",
              " 4860,\n",
              " 4880,\n",
              " 4900,\n",
              " 4920,\n",
              " 4940,\n",
              " 4960,\n",
              " 4980,\n",
              " 5000,\n",
              " 5020,\n",
              " 5040,\n",
              " 5060,\n",
              " 5080,\n",
              " 5100,\n",
              " 5120,\n",
              " 5140,\n",
              " 5160,\n",
              " 5180,\n",
              " 5200,\n",
              " 5220,\n",
              " 5240,\n",
              " 5260,\n",
              " 5280,\n",
              " 5300,\n",
              " 5320,\n",
              " 5340,\n",
              " 5360,\n",
              " 5380,\n",
              " 5400,\n",
              " 5420,\n",
              " 5440]"
            ]
          },
          "metadata": {},
          "execution_count": 14
        }
      ]
    }
  ]
}