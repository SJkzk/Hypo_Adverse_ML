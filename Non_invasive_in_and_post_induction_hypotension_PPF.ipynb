{
  "nbformat": 4,
  "nbformat_minor": 0,
  "metadata": {
    "colab": {
      "provenance": [],
      "authorship_tag": "ABX9TyP4aN/Uxoe+lxAwPD28hQqZ",
      "include_colab_link": true
    },
    "kernelspec": {
      "name": "python3",
      "display_name": "Python 3"
    },
    "language_info": {
      "name": "python"
    }
  },
  "cells": [
    {
      "cell_type": "markdown",
      "metadata": {
        "id": "view-in-github",
        "colab_type": "text"
      },
      "source": [
        "<a href=\"https://colab.research.google.com/github/SJkzk/Hypo_Adverse_ML/blob/main/Non_invasive_in_and_post_induction_hypotension_PPF.ipynb\" target=\"_parent\"><img src=\"https://colab.research.google.com/assets/colab-badge.svg\" alt=\"Open In Colab\"/></a>"
      ]
    },
    {
      "cell_type": "code",
      "execution_count": 133,
      "metadata": {
        "colab": {
          "base_uri": "https://localhost:8080/"
        },
        "id": "emTCoMubuW6O",
        "outputId": "c5b4aac3-86e7-427a-c9a9-ef233a804013"
      },
      "outputs": [
        {
          "output_type": "stream",
          "name": "stdout",
          "text": [
            "Drive already mounted at /content/drive; to attempt to forcibly remount, call drive.mount(\"/content/drive\", force_remount=True).\n",
            "[3, 5, 7, 8, 9, 13, 14, 16, 17, 19, 20, 22, 28, 29, 30, 31, 34, 35, 36, 37, 38, 40, 42, 44, 45, 46, 47, 48, 50, 52, 54, 55, 57, 59, 60, 67, 68, 69, 70, 72, 74, 75, 77, 78, 81, 83, 88, 93, 97, 101, 103, 104, 106, 109, 111, 113, 118, 119, 121, 122, 124, 125, 126, 128, 129, 132, 134, 136, 137, 138, 139, 140, 141, 143, 147, 149, 151, 152, 153, 154, 156, 158, 160, 163, 165, 166, 167, 169, 171, 172, 177, 180, 181, 182, 187, 192, 193, 194, 195, 199, 200, 202, 203, 204, 205, 208, 210, 211, 212, 214, 215, 216, 218, 219, 221, 222, 223, 225, 226, 227, 229, 231, 235, 236, 237, 240, 241, 245, 246, 247, 248, 251, 253, 257, 258, 259, 260, 261, 262, 263, 267, 268, 274, 276, 277, 281, 284, 285, 286, 290, 291, 292, 293, 295, 296, 297, 298, 301, 302, 305, 306, 308, 309, 310, 311, 314, 316, 317, 318, 319, 320, 321, 322, 324, 325, 326, 329, 330, 332, 334, 335, 336, 338, 341, 342, 343, 344, 345, 347, 348, 350, 351, 352, 353, 354, 356, 359, 360, 363, 364, 365, 369, 371, 372, 373, 378, 379, 381, 382, 383, 390, 393, 394, 397, 400, 403, 405, 408, 409, 410, 411, 412, 413, 414, 416, 419, 422, 423, 424, 426, 428, 429, 430, 432, 433, 434, 435, 436, 440, 442, 443, 444, 446, 447, 448, 449, 450, 452, 453, 454, 455, 456, 457, 459, 460, 463, 465, 466, 467, 468, 470, 471, 474, 476, 479, 480, 481, 482, 484, 485, 486, 487, 488, 489, 490, 491, 493, 494, 495, 496, 498]\n",
            "[1, 2, 3, 5, 6, 8, 9, 10, 11, 12, 14, 15, 16, 17, 18, 19, 20, 21, 22, 23, 24, 25, 27, 28, 29, 30, 31, 32, 33, 34, 35, 36, 37, 39, 40, 41, 42, 44, 45, 46, 47, 48, 49, 50, 52, 53, 54, 55, 56, 57, 58, 59, 60, 61, 62, 63, 64, 65, 66, 67, 68, 70, 71, 72, 73, 77, 78, 79, 80, 81, 82, 83, 84, 85, 86, 87, 88, 89, 90, 91, 92, 93, 94, 95, 96, 97, 98, 99, 100, 101, 102, 104, 105, 106, 107, 108, 109, 110, 111, 112, 113, 114, 115, 116, 117, 118, 119, 120, 121, 122, 123, 124, 125, 126, 127, 128, 129, 131, 133, 134, 135, 137, 139, 140, 141, 142, 143, 144, 145, 147, 148, 150, 151, 152, 154, 155, 156, 157, 158, 159, 161, 162, 163, 164, 165, 166, 167, 168, 169, 170, 171, 172, 173, 174, 175, 176, 177, 178, 179, 180, 181, 182, 183, 184, 185, 187, 188, 189, 190, 191, 192, 193, 194, 195, 196, 197, 198, 199, 200, 201, 202, 203, 204, 205, 207, 209, 210, 211, 212, 213, 214, 215, 216, 217, 218, 219, 220, 221, 222, 223, 224, 225, 226, 227, 228, 229, 230, 231, 232, 233, 235, 236, 237, 238, 239, 240, 241, 242, 243, 245, 246, 247, 248, 249, 250, 251, 252, 253, 254, 255, 256, 257, 259, 260, 261, 262, 263, 264, 265, 266, 267, 268, 269, 270, 271, 272, 273, 274, 275, 276, 277, 278, 279, 280, 282, 283, 284, 285, 286, 288, 289, 290, 291, 292, 293, 294, 295, 296, 297, 298, 299, 300, 301, 302, 303, 304, 305, 306, 307, 308, 309, 310, 311, 312, 313, 314, 315, 316, 317, 318, 319, 320, 321, 322, 323, 324, 325, 326, 327, 328, 329, 330, 331, 333, 334, 335, 336, 337, 338, 339, 340, 341, 342, 343, 344, 345, 346, 347, 350, 351, 352, 353, 355, 356, 357, 358, 359, 360, 361, 362, 363, 364, 365, 367, 368, 369, 370, 371, 372, 373, 374, 375, 376, 377, 378, 379, 380, 381, 383, 384, 386, 387, 388, 389, 390, 392, 393, 394, 395, 396, 397, 399, 400, 401, 403, 404, 405, 406, 407, 408, 410, 411, 412, 413, 414, 416, 417, 418, 419, 420, 421, 422, 423, 424, 425, 426, 427, 428, 429, 430, 431, 432, 433, 434, 435, 436, 437, 438, 439, 440, 441, 442, 443, 444, 445, 446, 447, 448, 449, 450, 451, 452, 453, 454, 455, 456, 457, 458, 459, 460, 461, 463, 465, 466, 467, 468, 470, 471, 472, 473, 474, 475, 476, 477, 478, 479, 480, 481, 482, 483, 484, 485, 486, 487, 488, 489, 490, 491, 493, 494, 496, 497, 498, 499]\n",
            "[3, 5, 8, 9, 14, 16, 17, 19, 20, 22, 28, 29, 30, 31, 34, 35, 36, 37, 40, 42, 44, 45, 46, 47, 48, 50, 52, 54, 55, 57, 59, 60, 67, 68, 70, 72, 77, 78, 81, 83, 88, 93, 97, 101, 104, 106, 109, 111, 113, 118, 119, 121, 122, 124, 125, 126, 128, 129, 134, 137, 139, 140, 141, 143, 147, 151, 152, 154, 156, 158, 163, 165, 166, 167, 169, 171, 172, 177, 180, 181, 182, 187, 192, 193, 194, 195, 199, 200, 202, 203, 204, 205, 210, 211, 212, 214, 215, 216, 218, 219, 221, 222, 223, 225, 226, 227, 229, 231, 235, 236, 237, 240, 241, 245, 246, 247, 248, 251, 253, 257, 259, 260, 261, 262, 263, 267, 268, 274, 276, 277, 284, 285, 286, 290, 291, 292, 293, 295, 296, 297, 298, 301, 302, 305, 306, 308, 309, 310, 311, 314, 316, 317, 318, 319, 320, 321, 322, 324, 325, 326, 329, 330, 334, 335, 336, 338, 341, 342, 343, 344, 345, 347, 350, 351, 352, 353, 356, 359, 360, 363, 364, 365, 369, 371, 372, 373, 378, 379, 381, 383, 390, 393, 394, 397, 400, 403, 405, 408, 410, 411, 412, 413, 414, 416, 419, 422, 423, 424, 426, 428, 429, 430, 432, 433, 434, 435, 436, 440, 442, 443, 444, 446, 447, 448, 449, 450, 452, 453, 454, 455, 456, 457, 459, 460, 463, 465, 466, 467, 468, 470, 471, 474, 476, 479, 480, 481, 482, 484, 485, 486, 487, 488, 489, 490, 491, 493, 494, 496, 498]\n",
            "number of valid cases:  259\n"
          ]
        }
      ],
      "source": [
        "import sklearn\n",
        "import pandas as pd\n",
        "import numpy as np\n",
        "import scipy.signal as sp\n",
        "import matplotlib.pyplot as plt\n",
        "pd.options.mode.chained_assignment = None # 禁用了Hypo_Label(1）中的链式警告\n",
        "from google.colab import drive\n",
        "drive.mount('/content/drive')\n",
        "\n",
        "df_clinical = pd.read_csv('https://api.vitaldb.net/cases') # 0~6387 entries, clinical info\n",
        "df_clinical['IndcStart'] = None \n",
        "df_clinical['IndcEnd'] = None \n",
        "TracksList = pd.read_csv('https://api.vitaldb.net/trks') # ids of tracks "
      ]
    },
    {
      "cell_type": "code",
      "source": [
        "ids = range(1,200)  \n",
        "CaseId_Valid_PPF= [] \n",
        "PPF_trks = []\n",
        "for theid in ids:\n",
        "  if \"Orchestra/PPF20_RATE\" in TracksList[TracksList['caseid'] == theid]['tname'].values:\n",
        "    CaseId_Valid_PPF.append(theid)\n",
        "print(CaseId_Valid_PPF)\n",
        "\n",
        "CaseId_Valid_NIBP= [] \n",
        "for theid in ids:\n",
        "  if \"Solar8000/NIBP_SBP\" in TracksList[TracksList['caseid'] == theid]['tname'].values:\n",
        "    CaseId_Valid_NIBP.append(theid)\n",
        "print(CaseId_Valid_NIBP)\n",
        "\n",
        "index =[val for val in CaseId_Valid_PPF if val in CaseId_Valid_NIBP]\n",
        "print(index) \n",
        "print('number of valid cases: ',len(index))\n",
        "\n",
        "def valid_Cases(theid):\n",
        "  id1 = TracksList[(TracksList['tname'] == \"Orchestra/PPF20_RATE\") & (TracksList['caseid'] == theid)]['tid'].values[0]\n",
        "  Wv_PPF_rate = pd.read_csv(\"https://api.vitaldb.net/\"+id1)\n",
        "  id2 = TracksList[(TracksList['tname'] == \"Solar8000/NIBP_SBP\") & (TracksList['caseid'] == theid)]['tid'].values[0]\n",
        "  Wv_NI_SBP = pd.read_csv(\"https://api.vitaldb.net/\"+id2)\n",
        "  Wv_NI_SBP = Wv_NI_SBP.loc[::30*3]\n",
        "\n",
        "  if ( Wv_PPF_rate['Orchestra/PPF20_RATE'] == 0.0).all():\n",
        "    return False\n",
        "  if Wv_NI_SBP['Time'].values[0] > Wv_PPF_rate['Orchestra/PPF20_RATE'].to_numpy().nonzero()[0][0]:\n",
        "    return False\n",
        "\n",
        "  opstart = df_clinical[df_clinical['caseid'] == theid]['opstart'].values[0]\n",
        "  num_valid_BP = len(Wv_NI_SBP[ Wv_NI_SBP['Time'] <= opstart+900]) # 900s = 15min\n",
        "  num_ideal_BP = (opstart+900)/(60*3)\n",
        "  if num_valid_BP < num_ideal_BP*0.8:\n",
        "    return False #16 is invalid\n",
        "  else:\n",
        "    return True\n",
        "\n",
        "valid_index = index.copy()\n",
        "for i in index:\n",
        "  if not valid_Cases(i):\n",
        "    valid_index.remove(i)\n",
        "print(valid_index)\n",
        "print('number of valid cases: ',len(valid_index))\n",
        "# valid_Cases(47)"
      ],
      "metadata": {
        "colab": {
          "base_uri": "https://localhost:8080/"
        },
        "id": "jM91gOte3_Ax",
        "outputId": "463e516b-34f1-45b2-f83a-08704c4c0d56"
      },
      "execution_count": 215,
      "outputs": [
        {
          "output_type": "stream",
          "name": "stdout",
          "text": [
            "[3, 5, 7, 8, 9, 13, 14, 16, 17, 19, 20, 22, 28, 29, 30, 31, 34, 35, 36, 37, 38, 40, 42, 44, 45, 46, 47, 48, 50, 52, 54, 55, 57, 59, 60, 67, 68, 69, 70, 72, 74, 75, 77, 78, 81, 83, 88, 93, 97, 101, 103, 104, 106, 109, 111, 113, 118, 119, 121, 122, 124, 125, 126, 128, 129, 132, 134, 136, 137, 138, 139, 140, 141, 143, 147, 149, 151, 152, 153, 154, 156, 158, 160, 163, 165, 166, 167, 169, 171, 172, 177, 180, 181, 182, 187, 192, 193, 194, 195, 199]\n",
            "[1, 2, 3, 5, 6, 8, 9, 10, 11, 12, 14, 15, 16, 17, 18, 19, 20, 21, 22, 23, 24, 25, 27, 28, 29, 30, 31, 32, 33, 34, 35, 36, 37, 39, 40, 41, 42, 44, 45, 46, 47, 48, 49, 50, 52, 53, 54, 55, 56, 57, 58, 59, 60, 61, 62, 63, 64, 65, 66, 67, 68, 70, 71, 72, 73, 77, 78, 79, 80, 81, 82, 83, 84, 85, 86, 87, 88, 89, 90, 91, 92, 93, 94, 95, 96, 97, 98, 99, 100, 101, 102, 104, 105, 106, 107, 108, 109, 110, 111, 112, 113, 114, 115, 116, 117, 118, 119, 120, 121, 122, 123, 124, 125, 126, 127, 128, 129, 131, 133, 134, 135, 137, 139, 140, 141, 142, 143, 144, 145, 147, 148, 150, 151, 152, 154, 155, 156, 157, 158, 159, 161, 162, 163, 164, 165, 166, 167, 168, 169, 170, 171, 172, 173, 174, 175, 176, 177, 178, 179, 180, 181, 182, 183, 184, 185, 187, 188, 189, 190, 191, 192, 193, 194, 195, 196, 197, 198, 199]\n",
            "[3, 5, 8, 9, 14, 16, 17, 19, 20, 22, 28, 29, 30, 31, 34, 35, 36, 37, 40, 42, 44, 45, 46, 47, 48, 50, 52, 54, 55, 57, 59, 60, 67, 68, 70, 72, 77, 78, 81, 83, 88, 93, 97, 101, 104, 106, 109, 111, 113, 118, 119, 121, 122, 124, 125, 126, 128, 129, 134, 137, 139, 140, 141, 143, 147, 151, 152, 154, 156, 158, 163, 165, 166, 167, 169, 171, 172, 177, 180, 181, 182, 187, 192, 193, 194, 195, 199]\n",
            "number of valid cases:  87\n",
            "[3, 8, 9, 14, 34, 35, 36, 37, 45, 48, 54, 57, 70, 72, 78, 81, 106, 109, 121, 122, 129, 141, 151, 165, 169, 171, 172, 180, 182, 192, 193]\n",
            "number of valid cases:  31\n"
          ]
        }
      ]
    },
    {
      "cell_type": "markdown",
      "source": [
        "#Preprocess - PPF\n",
        "selet limited colomns for test, and add extracted induction info\n"
      ],
      "metadata": {
        "id": "pwM_2CZYwMWF"
      }
    },
    {
      "cell_type": "code",
      "source": [
        "df_test = df_clinical.loc[[x-1 for x in index]][['caseid','sex','age','bmi','height','department',]][df_clinical['department'] == 'General surgery']\n",
        "df_test[\"time\"] = None\n",
        "df_test[\"PPF_for_dose\"] = 0\n",
        "df_test[\"PPF_next_dose\"] = None\n",
        "# df_test.loc[2]['sex']"
      ],
      "metadata": {
        "id": "Uixa5_hqhWhS"
      },
      "execution_count": null,
      "outputs": []
    },
    {
      "cell_type": "code",
      "source": [
        "np.save('/content/drive/My Drive/Colab Notebooks/outindex.npy',valid_index)\n",
        "index = np.load('/content/drive/My Drive/Colab Notebooks/outindex.npy')\n",
        "index"
      ],
      "metadata": {
        "colab": {
          "base_uri": "https://localhost:8080/"
        },
        "id": "5xxZJ0_bgdPO",
        "outputId": "2c22f0b5-b879-4676-b767-fd1a7ff7f6db"
      },
      "execution_count": 163,
      "outputs": [
        {
          "output_type": "execute_result",
          "data": {
            "text/plain": [
              "array([  3,   8,   9,  14,  30,  34,  35,  36,  37,  40,  45,  47,  48,\n",
              "        54,  57,  70,  72,  78,  81,  88, 106, 109, 121, 122, 129, 141,\n",
              "       147, 151, 154, 165, 169, 171, 172, 180, 181, 182, 192, 193, 204,\n",
              "       205, 211, 212, 214, 215, 219, 223, 225, 226, 227, 231, 235, 240,\n",
              "       245, 248, 253, 257, 259, 260, 261, 262, 267, 276, 277, 285, 290,\n",
              "       291, 292, 298, 301, 302, 305, 309, 310, 311, 314, 317, 320, 322,\n",
              "       326, 329, 334, 335, 336, 338, 341, 343, 344, 351, 352, 356, 360,\n",
              "       364, 365, 369, 372, 373, 378, 379, 381, 393, 394, 400, 403, 410,\n",
              "       412, 414, 422, 423, 424, 426, 428, 429, 430, 432, 434, 436, 443,\n",
              "       444, 450, 453, 454, 456, 457, 459, 465, 466, 467, 470, 471, 479,\n",
              "       480, 482, 489, 491, 493, 494, 498])"
            ]
          },
          "metadata": {},
          "execution_count": 163
        }
      ]
    },
    {
      "cell_type": "code",
      "source": [
        "def constant_split(lis): # 寻找每次注射\n",
        "  stack = []\n",
        "  sta = []\n",
        "  end = []\n",
        "  flag = -1\n",
        "  for i,n in enumerate(lis):\n",
        "    if (flag==-1 and n==0) or (flag==1 and 6000>n>0):\n",
        "      stack.append(i)\n",
        "    if (flag==-1 and 6000>n>0):\n",
        "      stack.append(i)\n",
        "      sta.append(i)\n",
        "      flag = 1\n",
        "    if (flag==1 and n==0):\n",
        "      end.append(stack.pop())\n",
        "      flag = -1\n",
        "  return sta,end\n",
        "\n",
        "# NIBP OR SIMULATION\n",
        "def PPF_INFO(theid):\n",
        "  id = TracksList[(TracksList['tname'] == \"Orchestra/PPF20_RATE\") & (TracksList['caseid'] == theid)]['tid'].values[0]\n",
        "  Wv_PPF_rate = pd.read_csv(\"https://api.vitaldb.net/\"+id)\n",
        "\n",
        "  opstart = df_clinical[df_clinical['caseid'] == theid]['opstart'].values[0]\n",
        "  # if (Wv_PPF_rate['Orchestra/PPF20_RATE'] == 0.0).all():\n",
        "  #   return False\n",
        "\n",
        "# # ########很粗糙要改\n",
        "#   peak_pro = Wv_PPF_rate.copy()\n",
        "#   for i in range(len(peak_pro)):\n",
        "#     if peak_pro['Orchestra/PPF20_RATE'][i]>100: # \"num\" is a \"large dose\" threshold\n",
        "#       peak_pro['Orchestra/PPF20_RATE'][i] = 150\n",
        "#   # plt.plot(peak_pro['Time'],peak_pro['Orchestra/PPF20_RATE'])\n",
        "\n",
        "#   peaks, properties = sp.find_peaks(peak_pro['Orchestra/PPF20_RATE'],height=100,width=5)\n",
        "\n",
        "#   Indct_sta = peak_pro['Time'][[int(x) for x in properties['left_ips']]].values\n",
        "#   Indct_end = peak_pro['Time'][[int(x) for x in properties['right_ips']]].values\n",
        "#   Indct_sta = [x for x in Indct_sta if x < opstart]\n",
        "#   Indct_end = Indct_end[:len(Indct_sta)]\n",
        "\n",
        "  i1,i2 = constant_split(Wv_PPF_rate['Orchestra/PPF20_RATE'].values.tolist())\n",
        "  Indct_sta = Wv_PPF_rate['Time'][[int(x) for x in i1]].values\n",
        "  Indct_end = Wv_PPF_rate['Time'][[int(x) for x in i2]].values\n",
        "  Indct_sta = [x for x in Indct_sta if x < opstart]\n",
        "  Indct_end = Indct_end[:len(Indct_sta)]\n",
        "\n",
        "  INFO = {}\n",
        "  INFO[\"indsta\"] = Indct_sta\n",
        "  INFO[\"indend\"] = Indct_end\n",
        "  INFO[\"opsta\"] = opstart \n",
        "  # time_min = (Indct_end - Indct_sta) \n",
        "  return INFO\n",
        "\n",
        "PPF_INFO(40)\n",
        "# 291, 187有问题"
      ],
      "metadata": {
        "colab": {
          "base_uri": "https://localhost:8080/"
        },
        "id": "CEUmTiqN5O6P",
        "outputId": "2a779a5e-4139-44dd-fb78-b0311ef091f1"
      },
      "execution_count": 56,
      "outputs": [
        {
          "output_type": "execute_result",
          "data": {
            "text/plain": [
              "{'indsta': [129.85099983215332, 229.621000289917, 835.7449998855591],\n",
              " 'indend': array([ 149.65400028,  676.24399996, 2969.19999981]),\n",
              " 'opsta': 1278}"
            ]
          },
          "metadata": {},
          "execution_count": 56
        }
      ]
    },
    {
      "cell_type": "code",
      "source": [
        "from prompt_toolkit.history import DummyHistory\n",
        "# Draw and show\n",
        "theid = 47\n",
        "id1 = TracksList[(TracksList['tname'] == \"Orchestra/PPF20_RATE\") & (TracksList['caseid'] == theid)]['tid'].values[0]\n",
        "Wv_PPF_rate = pd.read_csv(\"https://api.vitaldb.net/\"+id1)\n",
        "\n",
        "opstart = df_clinical[df_clinical['caseid'] == theid]['opstart'].values[0]\n",
        "# Original Figure\n",
        "range_see = 1200\n",
        "plt.figure(figsize=(15,4))\n",
        "plt.title('NI-SBP & PPF injection rate'+str(theid))\n",
        "plt.plot(Wv_PPF_rate['Time'][:range_see],Wv_PPF_rate['Orchestra/PPF20_RATE'][:range_see], label='PPF rate')\n",
        "# plt.plot(Wv_NI_SBP['Time'],Wv_NI_SBP['Solar8000/NIBP_SBP'])\n",
        "# plt.ylim((0,600))\n",
        "# plt.axvline(opstart,color='r',linestyle='--')\n",
        "# plt.plot(peak_pro['Time'][peaks], peak_pro['Orchestra/PPF20_RATE'][peaks],'x',color='r')\n",
        "# plt.plot(peaks, peak_pro['Orchestra/PPF20_RATE'][peaks],'x',color='r')\n",
        "id2 = TracksList[(TracksList['tname'] == \"Solar8000/NIBP_SBP\") & (TracksList['caseid'] == theid)]['tid'].values[0]\n",
        "Wv_NI_SBP = pd.read_csv(\"https://api.vitaldb.net/\"+id2)\n",
        "Wv_NI_SBP = Wv_NI_SBP.loc[::30*3]\n",
        "range_see = 30\n",
        "plt.scatter(Wv_NI_SBP['Time'][:range_see],Wv_NI_SBP['Solar8000/NIBP_SBP'][:range_see],color='r',label='NI-SBP')\n",
        "plt.axvline(opstart,color='r',linestyle='--',label='operation start')\n",
        "range_see = 2000\n",
        "plt.legend()\n",
        "\n",
        "# Wv_NI_SBP\n",
        "# Wv_NI_SBP['Time'].values[0] \n"
      ],
      "metadata": {
        "colab": {
          "base_uri": "https://localhost:8080/",
          "height": 299
        },
        "id": "bF4Ol1YyG8FL",
        "outputId": "51f49340-d1da-40e9-fb06-5b65c569a54e"
      },
      "execution_count": 213,
      "outputs": [
        {
          "output_type": "execute_result",
          "data": {
            "text/plain": [
              "array([  38,   39,   40, ..., 7736, 7737, 7738])"
            ]
          },
          "metadata": {},
          "execution_count": 213
        },
        {
          "output_type": "display_data",
          "data": {
            "text/plain": [
              "<Figure size 1080x288 with 1 Axes>"
            ],
            "image/png": "[encoded data removed]"
          },
          "metadata": {
            "needs_background": "light"
          }
        }
      ]
    },
    {
      "cell_type": "code",
      "source": [
        "num_inject = []\n",
        "show = {}\n",
        "for cases in index[:100]:\n",
        "  if PPF_INFO(cases):\n",
        "    dummy = PPF_INFO(cases)\n",
        "    num_inject.append(len(dummy[\"indsta\"]))\n",
        "for item in set(num_inject): \n",
        "  show[item] = num_inject.count(item)\n",
        "plt.figure()\n",
        "plt.title('statistics of induction injection times')\n",
        "plt.xlabel('injection times')\n",
        "plt.bar(*zip(*show.items()))"
      ],
      "metadata": {
        "colab": {
          "base_uri": "https://localhost:8080/",
          "height": 313
        },
        "id": "wSVTvqX4PiRC",
        "outputId": "98a8c730-c421-4bab-f6bc-728113b864f8"
      },
      "execution_count": 53,
      "outputs": [
        {
          "output_type": "execute_result",
          "data": {
            "text/plain": [
              "<BarContainer object of 10 artists>"
            ]
          },
          "metadata": {},
          "execution_count": 53
        },
        {
          "output_type": "display_data",
          "data": {
            "text/plain": [
              "<Figure size 432x288 with 1 Axes>"
            ],
            "image/png": "[encoded data removed]"
          },
          "metadata": {
            "needs_background": "light"
          }
        }
      ]
    },
    {
      "cell_type": "code",
      "source": [
        "df_reframe = pd.DataFrame(columns = ['caseid','sex','age','bmi','height','department','time','PPF_for_dose','PPF_next_dose'])\n",
        "\n",
        "def PPF_dose(df,theid):\n",
        "  \"\"\"\n",
        "  detect protofol dosage at every injection.\n",
        "  \"\"\"\n",
        "  id = TracksList[(TracksList['tname'] == \"Orchestra/PPF20_VOL\") & (TracksList['caseid'] == theid)]['tid'].values[0]\n",
        "  VOL_PPF = pd.read_csv(\"https://api.vitaldb.net/\"+id)\n",
        "  # if not PPF_INFO(theid):\n",
        "  #   return False\n",
        "  # else:    \n",
        "  PPF_time = PPF_INFO(theid)\n",
        "  for i in range(len(PPF_time[\"indsta\"])):\n",
        "    dummy = pd.DataFrame()\n",
        "    dummy = df_test[df_test[\"caseid\"] == theid].copy()\n",
        "    dummy[\"time\"] = PPF_time[\"indsta\"][i]\n",
        "    statime = PPF_time[\"indsta\"][i]\n",
        "    t = (VOL_PPF.loc[abs(VOL_PPF['Time'] - statime) < 0.1].index[0]-1)\n",
        "    tt = 0 if t< 0 else t\n",
        "    dummy[\"PPF_for_dose\"] = VOL_PPF.loc[tt][\"Orchestra/PPF20_VOL\"]\n",
        "\n",
        "    endtime = PPF_time[\"indend\"][i]\n",
        "    dummy[\"PPF_next_dose\"] = VOL_PPF.loc[VOL_PPF.loc[abs(VOL_PPF['Time'] - endtime) < 0.1].index[0]+1][\"Orchestra/PPF20_VOL\"]\n",
        "    df = df.append(dummy,ignore_index=True)\n",
        "  return df\n",
        "\n",
        "for cases in index:\n",
        "  df_reframe = PPF_dose(df_reframe,cases)\n",
        "df_reframe.head()\n",
        "# df_reframe = PPF_dose(df_reframe,8)"
      ],
      "metadata": {
        "colab": {
          "base_uri": "https://localhost:8080/",
          "height": 206
        },
        "id": "neuoAibTAyuL",
        "outputId": "b9724f37-0fda-4ec7-bb5b-f7d678393a9f"
      },
      "execution_count": 198,
      "outputs": [
        {
          "output_type": "execute_result",
          "data": {
            "text/plain": [
              "  caseid sex   age   bmi  height       department      time  PPF_for_dose  \\\n",
              "0      3   M  62.0  24.4   169.1  General surgery  182.3823         0.000   \n",
              "1      3   M  62.0  24.4   169.1  General surgery  292.4873         4.897   \n",
              "2      3   M  62.0  24.4   169.1  General surgery  466.6463         6.392   \n",
              "3      3   M  62.0  24.4   169.1  General surgery  551.7313         7.005   \n",
              "4      8   F  81.0  27.4   156.7  General surgery   25.1740         5.882   \n",
              "\n",
              "   PPF_next_dose  \n",
              "0       4.897000  \n",
              "1       6.392000  \n",
              "2       7.005000  \n",
              "3      21.941999  \n",
              "4       8.002000  "
            ],
            "text/html": [
              "\n",
              "  <div id=\"df-2eb36775-d7c3-4caf-9111-163780838cfb\">\n",
              "    <div class=\"colab-df-container\">\n",
              "      <div>\n",
              "<style scoped>\n",
              "    .dataframe tbody tr th:only-of-type {\n",
              "        vertical-align: middle;\n",
              "    }\n",
              "\n",
              "    .dataframe tbody tr th {\n",
              "        vertical-align: top;\n",
              "    }\n",
              "\n",
              "    .dataframe thead th {\n",
              "        text-align: right;\n",
              "    }\n",
              "</style>\n",
              "<table border=\"1\" class=\"dataframe\">\n",
              "  <thead>\n",
              "    <tr style=\"text-align: right;\">\n",
              "      <th></th>\n",
              "      <th>caseid</th>\n",
              "      <th>sex</th>\n",
              "      <th>age</th>\n",
              "      <th>bmi</th>\n",
              "      <th>height</th>\n",
              "      <th>department</th>\n",
              "      <th>time</th>\n",
              "      <th>PPF_for_dose</th>\n",
              "      <th>PPF_next_dose</th>\n",
              "    </tr>\n",
              "  </thead>\n",
              "  <tbody>\n",
              "    <tr>\n",
              "      <th>0</th>\n",
              "      <td>3</td>\n",
              "      <td>M</td>\n",
              "      <td>62.0</td>\n",
              "      <td>24.4</td>\n",
              "      <td>169.1</td>\n",
              "      <td>General surgery</td>\n",
              "      <td>182.3823</td>\n",
              "      <td>0.000</td>\n",
              "      <td>4.897000</td>\n",
              "    </tr>\n",
              "    <tr>\n",
              "      <th>1</th>\n",
              "      <td>3</td>\n",
              "      <td>M</td>\n",
              "      <td>62.0</td>\n",
              "      <td>24.4</td>\n",
              "      <td>169.1</td>\n",
              "      <td>General surgery</td>\n",
              "      <td>292.4873</td>\n",
              "      <td>4.897</td>\n",
              "      <td>6.392000</td>\n",
              "    </tr>\n",
              "    <tr>\n",
              "      <th>2</th>\n",
              "      <td>3</td>\n",
              "      <td>M</td>\n",
              "      <td>62.0</td>\n",
              "      <td>24.4</td>\n",
              "      <td>169.1</td>\n",
              "      <td>General surgery</td>\n",
              "      <td>466.6463</td>\n",
              "      <td>6.392</td>\n",
              "      <td>7.005000</td>\n",
              "    </tr>\n",
              "    <tr>\n",
              "      <th>3</th>\n",
              "      <td>3</td>\n",
              "      <td>M</td>\n",
              "      <td>62.0</td>\n",
              "      <td>24.4</td>\n",
              "      <td>169.1</td>\n",
              "      <td>General surgery</td>\n",
              "      <td>551.7313</td>\n",
              "      <td>7.005</td>\n",
              "      <td>21.941999</td>\n",
              "    </tr>\n",
              "    <tr>\n",
              "      <th>4</th>\n",
              "      <td>8</td>\n",
              "      <td>F</td>\n",
              "      <td>81.0</td>\n",
              "      <td>27.4</td>\n",
              "      <td>156.7</td>\n",
              "      <td>General surgery</td>\n",
              "      <td>25.1740</td>\n",
              "      <td>5.882</td>\n",
              "      <td>8.002000</td>\n",
              "    </tr>\n",
              "  </tbody>\n",
              "</table>\n",
              "</div>\n",
              "      <button class=\"colab-df-convert\" onclick=\"convertToInteractive('df-2eb36775-d7c3-4caf-9111-163780838cfb')\"\n",
              "              title=\"Convert this dataframe to an interactive table.\"\n",
              "              style=\"display:none;\">\n",
              "        \n",
              "  <svg xmlns=\"http://www.w3.org/2000/svg\" height=\"24px\"viewBox=\"0 0 24 24\"\n",
              "       width=\"24px\">\n",
              "    <path d=\"M0 0h24v24H0V0z\" fill=\"none\"/>\n",
              "    <path d=\"M18.56 5.44l.94 2.06.94-2.06 2.06-.94-2.06-.94-.94-2.06-.94 2.06-2.06.94zm-11 1L8.5 8.5l.94-2.06 2.06-.94-2.06-.94L8.5 2.5l-.94 2.06-2.06.94zm10 10l.94 2.06.94-2.06 2.06-.94-2.06-.94-.94-2.06-.94 2.06-2.06.94z\"/><path d=\"M17.41 7.96l-1.37-1.37c-.4-.4-.92-.59-1.43-.59-.52 0-1.04.2-1.43.59L10.3 9.45l-7.72 7.72c-.78.78-.78 2.05 0 2.83L4 21.41c.39.39.9.59 1.41.59.51 0 1.02-.2 1.41-.59l7.78-7.78 2.81-2.81c.8-.78.8-2.07 0-2.86zM5.41 20L4 18.59l7.72-7.72 1.47 1.35L5.41 20z\"/>\n",
              "  </svg>\n",
              "      </button>\n",
              "      \n",
              "  <style>\n",
              "    .colab-df-container {\n",
              "      display:flex;\n",
              "      flex-wrap:wrap;\n",
              "      gap: 12px;\n",
              "    }\n",
              "\n",
              "    .colab-df-convert {\n",
              "      background-color: #E8F0FE;\n",
              "      border: none;\n",
              "      border-radius: 50%;\n",
              "      cursor: pointer;\n",
              "      display: none;\n",
              "      fill: #1967D2;\n",
              "      height: 32px;\n",
              "      padding: 0 0 0 0;\n",
              "      width: 32px;\n",
              "    }\n",
              "\n",
              "    .colab-df-convert:hover {\n",
              "      background-color: #E2EBFA;\n",
              "      box-shadow: 0px 1px 2px rgba(60, 64, 67, 0.3), 0px 1px 3px 1px rgba(60, 64, 67, 0.15);\n",
              "      fill: #174EA6;\n",
              "    }\n",
              "\n",
              "    [theme=dark] .colab-df-convert {\n",
              "      background-color: #3B4455;\n",
              "      fill: #D2E3FC;\n",
              "    }\n",
              "\n",
              "    [theme=dark] .colab-df-convert:hover {\n",
              "      background-color: #434B5C;\n",
              "      box-shadow: 0px 1px 3px 1px rgba(0, 0, 0, 0.15);\n",
              "      filter: drop-shadow(0px 1px 2px rgba(0, 0, 0, 0.3));\n",
              "      fill: #FFFFFF;\n",
              "    }\n",
              "  </style>\n",
              "\n",
              "      <script>\n",
              "        const buttonEl =\n",
              "          document.querySelector('#df-2eb36775-d7c3-4caf-9111-163780838cfb button.colab-df-convert');\n",
              "        buttonEl.style.display =\n",
              "          google.colab.kernel.accessAllowed ? 'block' : 'none';\n",
              "\n",
              "        async function convertToInteractive(key) {\n",
              "          const element = document.querySelector('#df-2eb36775-d7c3-4caf-9111-163780838cfb');\n",
              "          const dataTable =\n",
              "            await google.colab.kernel.invokeFunction('convertToInteractive',\n",
              "                                                     [key], {});\n",
              "          if (!dataTable) return;\n",
              "\n",
              "          const docLinkHtml = 'Like what you see? Visit the ' +\n",
              "            '<a target=\"_blank\" href=https://colab.research.google.com/notebooks/data_table.ipynb>data table notebook</a>'\n",
              "            + ' to learn more about interactive tables.';\n",
              "          element.innerHTML = '';\n",
              "          dataTable['output_type'] = 'display_data';\n",
              "          await google.colab.output.renderOutput(dataTable, element);\n",
              "          const docLink = document.createElement('div');\n",
              "          docLink.innerHTML = docLinkHtml;\n",
              "          element.appendChild(docLink);\n",
              "        }\n",
              "      </script>\n",
              "    </div>\n",
              "  </div>\n",
              "  "
            ]
          },
          "metadata": {},
          "execution_count": 198
        }
      ]
    },
    {
      "cell_type": "markdown",
      "source": [
        "#Preprocess - BP drop\n",
        "\n",
        "先做最简单的，先对照着这些时间点直接写上15min后的血压"
      ],
      "metadata": {
        "id": "tqCYMgNZLAmW"
      }
    },
    {
      "cell_type": "code",
      "source": [
        "index_BPbreak = []\n",
        "def FindBPpoint(NBP,ttarget):\n",
        "  \"\"\"\n",
        "  find a proper BP measuremnt for each row in dataframe\n",
        "  \"\"\"\n",
        "  sta =[]\n",
        "  for t in NBP['Time'].values:\n",
        "    if t < ttarget:\n",
        "      sta.append(t)\n",
        "    else:\n",
        "      tmeas = sta.pop()\n",
        "      break\n",
        "  if ttarget - tmeas > 200: # if measurement is too far to be valid\n",
        "    return False\n",
        "  return tmeas\n",
        "\n",
        "def NIBP_data(df_caseslice,theid):\n",
        "  id = TracksList[(TracksList['tname'] == \"Solar8000/NIBP_SBP\") & (TracksList['caseid'] == theid)]['tid'].values[0]\n",
        "  Wv_NI_SBP = pd.read_csv(\"https://api.vitaldb.net/\"+id)\n",
        "  Wv_NI_SBP = Wv_NI_SBP.loc[::30*3]\n",
        "\n",
        "  subindex = df_caseslice.index\n",
        "  for i in range(len(df_caseslice)):\n",
        "    if not FindBPpoint(Wv_NI_SBP,df_caseslice['time'].values[i]):\n",
        "      index_BPbreak.append(theid)\n",
        "      return False\n",
        "    else:\n",
        "      t = FindBPpoint(Wv_NI_SBP,df_caseslice['time'].values[i])\n",
        "      print(theid,i,t)\n",
        "      print(Wv_NI_SBP[Wv_NI_SBP['Time'] == t]['Solar8000/NIBP_SBP'])\n",
        "      df_caseslice['CurrentNIBP'][subindex[i]] = Wv_NI_SBP[Wv_NI_SBP['Time'] == t]['Solar8000/NIBP_SBP'].values[0]\n",
        "  return df_caseslice\n",
        "\n",
        "df_reframe['CurrentNIBP'] = None\n",
        "df_reframe['Af15minNIBP'] = None\n",
        "df_reframe2 = pd.DataFrame()\n",
        "\n",
        "for cases in index:\n",
        "  del dummy\n",
        "  dummy = NIBP_data(df_reframe[df_reframe['caseid'] == cases],cases)\n",
        "  if dummy is not False:\n",
        "    df_reframe2 = df_reframe2.append(dummy,ignore_index=True)\n",
        "df_reframe2\n",
        "# NIBP_data(df_reframe[df_reframe['caseid'] == 48],48)\n",
        "# FindBPpoint(df_reframe[df_reframe['caseid']],1000)"
      ],
      "metadata": {
        "colab": {
          "base_uri": "https://localhost:8080/",
          "height": 1000
        },
        "id": "MeLk_tpHAas8",
        "outputId": "41e8e46b-b17f-452b-8dfd-fdc7a27f68e6"
      },
      "execution_count": 199,
      "outputs": [
        {
          "output_type": "stream",
          "name": "stdout",
          "text": [
            "3 0 49.5691\n",
            "0    136\n",
            "Name: Solar8000/NIBP_SBP, dtype: int64\n",
            "3 1 229.558\n",
            "90    130\n",
            "Name: Solar8000/NIBP_SBP, dtype: int64\n",
            "3 2 409.58\n",
            "180    87\n",
            "Name: Solar8000/NIBP_SBP, dtype: int64\n",
            "3 3 409.58\n",
            "180    87\n",
            "Name: Solar8000/NIBP_SBP, dtype: int64\n",
            "8 0 3.95881\n",
            "0    184\n",
            "Name: Solar8000/NIBP_SBP, dtype: int64\n",
            "8 1 183.985\n",
            "90    113\n",
            "Name: Solar8000/NIBP_SBP, dtype: int64\n",
            "8 2 492.014\n",
            "180    81\n",
            "Name: Solar8000/NIBP_SBP, dtype: int64\n",
            "9 0 1.858\n",
            "0    132\n",
            "Name: Solar8000/NIBP_SBP, dtype: int64\n",
            "9 1 181.874\n",
            "90    117\n",
            "Name: Solar8000/NIBP_SBP, dtype: int64\n",
            "9 2 361.891\n",
            "180    118\n",
            "Name: Solar8000/NIBP_SBP, dtype: int64\n",
            "9 3 541.908\n",
            "270    146\n",
            "Name: Solar8000/NIBP_SBP, dtype: int64\n",
            "14 0 23.3457\n",
            "0    141\n",
            "Name: Solar8000/NIBP_SBP, dtype: int64\n",
            "14 1 23.3457\n",
            "0    141\n",
            "Name: Solar8000/NIBP_SBP, dtype: int64\n",
            "14 2 203.376\n",
            "90    123\n",
            "Name: Solar8000/NIBP_SBP, dtype: int64\n",
            "14 3 383.393\n",
            "180    108\n",
            "Name: Solar8000/NIBP_SBP, dtype: int64\n",
            "30 0 3.656\n",
            "0    157\n",
            "Name: Solar8000/NIBP_SBP, dtype: int64\n",
            "30 1 3.656\n",
            "0    157\n",
            "Name: Solar8000/NIBP_SBP, dtype: int64\n",
            "30 2 183.667\n",
            "90    111\n",
            "Name: Solar8000/NIBP_SBP, dtype: int64\n",
            "30 3 903.774\n",
            "450    84\n",
            "Name: Solar8000/NIBP_SBP, dtype: int64\n",
            "30 4 1083.8\n",
            "540    86\n",
            "Name: Solar8000/NIBP_SBP, dtype: int64\n",
            "30 5 1983.92\n",
            "990    78\n",
            "Name: Solar8000/NIBP_SBP, dtype: int64\n",
            "34 0 318.481\n",
            "90    164\n",
            "Name: Solar8000/NIBP_SBP, dtype: int64\n",
            "34 1 318.481\n",
            "90    164\n",
            "Name: Solar8000/NIBP_SBP, dtype: int64\n",
            "34 2 678.525\n",
            "270    166\n",
            "Name: Solar8000/NIBP_SBP, dtype: int64\n",
            "36 0 74.786\n",
            "0    117\n",
            "Name: Solar8000/NIBP_SBP, dtype: int64\n",
            "36 1 74.786\n",
            "0    117\n",
            "Name: Solar8000/NIBP_SBP, dtype: int64\n",
            "36 2 434.834\n",
            "180    84\n",
            "Name: Solar8000/NIBP_SBP, dtype: int64\n",
            "37 0 64.5897\n",
            "0    181\n",
            "Name: Solar8000/NIBP_SBP, dtype: int64\n",
            "37 1 64.5897\n",
            "0    181\n",
            "Name: Solar8000/NIBP_SBP, dtype: int64\n",
            "37 2 424.602\n",
            "180    140\n",
            "Name: Solar8000/NIBP_SBP, dtype: int64\n",
            "37 3 784.628\n",
            "360    109\n",
            "Name: Solar8000/NIBP_SBP, dtype: int64\n",
            "40 0 91.4291\n",
            "0    139\n",
            "Name: Solar8000/NIBP_SBP, dtype: int64\n",
            "40 1 91.4291\n",
            "0    139\n",
            "Name: Solar8000/NIBP_SBP, dtype: int64\n",
            "40 2 811.527\n",
            "360    86\n",
            "Name: Solar8000/NIBP_SBP, dtype: int64\n",
            "45 0 722.708\n",
            "360    139\n",
            "Name: Solar8000/NIBP_SBP, dtype: int64\n",
            "45 1 722.708\n",
            "360    139\n",
            "Name: Solar8000/NIBP_SBP, dtype: int64\n",
            "45 2 1082.76\n",
            "540    83\n",
            "Name: Solar8000/NIBP_SBP, dtype: int64\n",
            "45 3 1262.79\n",
            "630    99\n",
            "Name: Solar8000/NIBP_SBP, dtype: int64\n",
            "45 4 1982.89\n",
            "990    74\n",
            "Name: Solar8000/NIBP_SBP, dtype: int64\n",
            "45 5 2342.96\n",
            "1170    85\n",
            "Name: Solar8000/NIBP_SBP, dtype: int64\n"
          ]
        },
        {
          "output_type": "error",
          "ename": "IndexError",
          "evalue": "ignored",
          "traceback": [
            "\u001b[0;31m---------------------------------------------------------------------------\u001b[0m",
            "\u001b[0;31mIndexError\u001b[0m                                Traceback (most recent call last)",
            "\u001b[0;32m<ipython-input-199-b04bae17f6df>\u001b[0m in \u001b[0;36m<module>\u001b[0;34m\u001b[0m\n\u001b[1;32m     38\u001b[0m \u001b[0;32mfor\u001b[0m \u001b[0mcases\u001b[0m \u001b[0;32min\u001b[0m \u001b[0mindex\u001b[0m\u001b[0;34m:\u001b[0m\u001b[0;34m\u001b[0m\u001b[0;34m\u001b[0m\u001b[0m\n\u001b[1;32m     39\u001b[0m   \u001b[0;32mdel\u001b[0m \u001b[0mdummy\u001b[0m\u001b[0;34m\u001b[0m\u001b[0;34m\u001b[0m\u001b[0m\n\u001b[0;32m---> 40\u001b[0;31m   \u001b[0mdummy\u001b[0m \u001b[0;34m=\u001b[0m \u001b[0mNIBP_data\u001b[0m\u001b[0;34m(\u001b[0m\u001b[0mdf_reframe\u001b[0m\u001b[0;34m[\u001b[0m\u001b[0mdf_reframe\u001b[0m\u001b[0;34m[\u001b[0m\u001b[0;34m'caseid'\u001b[0m\u001b[0;34m]\u001b[0m \u001b[0;34m==\u001b[0m \u001b[0mcases\u001b[0m\u001b[0;34m]\u001b[0m\u001b[0;34m,\u001b[0m\u001b[0mcases\u001b[0m\u001b[0;34m)\u001b[0m\u001b[0;34m\u001b[0m\u001b[0;34m\u001b[0m\u001b[0m\n\u001b[0m\u001b[1;32m     41\u001b[0m   \u001b[0;32mif\u001b[0m \u001b[0mdummy\u001b[0m \u001b[0;32mis\u001b[0m \u001b[0;32mnot\u001b[0m \u001b[0;32mFalse\u001b[0m\u001b[0;34m:\u001b[0m\u001b[0;34m\u001b[0m\u001b[0;34m\u001b[0m\u001b[0m\n\u001b[1;32m     42\u001b[0m     \u001b[0mdf_reframe2\u001b[0m \u001b[0;34m=\u001b[0m \u001b[0mdf_reframe2\u001b[0m\u001b[0;34m.\u001b[0m\u001b[0mappend\u001b[0m\u001b[0;34m(\u001b[0m\u001b[0mdummy\u001b[0m\u001b[0;34m,\u001b[0m\u001b[0mignore_index\u001b[0m\u001b[0;34m=\u001b[0m\u001b[0;32mTrue\u001b[0m\u001b[0;34m)\u001b[0m\u001b[0;34m\u001b[0m\u001b[0;34m\u001b[0m\u001b[0m\n",
            "\u001b[0;32m<ipython-input-199-b04bae17f6df>\u001b[0m in \u001b[0;36mNIBP_data\u001b[0;34m(df_caseslice, theid)\u001b[0m\n\u001b[1;32m     22\u001b[0m   \u001b[0msubindex\u001b[0m \u001b[0;34m=\u001b[0m \u001b[0mdf_caseslice\u001b[0m\u001b[0;34m.\u001b[0m\u001b[0mindex\u001b[0m\u001b[0;34m\u001b[0m\u001b[0;34m\u001b[0m\u001b[0m\n\u001b[1;32m     23\u001b[0m   \u001b[0;32mfor\u001b[0m \u001b[0mi\u001b[0m \u001b[0;32min\u001b[0m \u001b[0mrange\u001b[0m\u001b[0;34m(\u001b[0m\u001b[0mlen\u001b[0m\u001b[0;34m(\u001b[0m\u001b[0mdf_caseslice\u001b[0m\u001b[0;34m)\u001b[0m\u001b[0;34m)\u001b[0m\u001b[0;34m:\u001b[0m\u001b[0;34m\u001b[0m\u001b[0;34m\u001b[0m\u001b[0m\n\u001b[0;32m---> 24\u001b[0;31m     \u001b[0;32mif\u001b[0m \u001b[0;32mnot\u001b[0m \u001b[0mFindBPpoint\u001b[0m\u001b[0;34m(\u001b[0m\u001b[0mWv_NI_SBP\u001b[0m\u001b[0;34m,\u001b[0m\u001b[0mdf_caseslice\u001b[0m\u001b[0;34m[\u001b[0m\u001b[0;34m'time'\u001b[0m\u001b[0;34m]\u001b[0m\u001b[0;34m.\u001b[0m\u001b[0mvalues\u001b[0m\u001b[0;34m[\u001b[0m\u001b[0mi\u001b[0m\u001b[0;34m]\u001b[0m\u001b[0;34m)\u001b[0m\u001b[0;34m:\u001b[0m\u001b[0;34m\u001b[0m\u001b[0;34m\u001b[0m\u001b[0m\n\u001b[0m\u001b[1;32m     25\u001b[0m       \u001b[0mindex_BPbreak\u001b[0m\u001b[0;34m.\u001b[0m\u001b[0mappend\u001b[0m\u001b[0;34m(\u001b[0m\u001b[0mtheid\u001b[0m\u001b[0;34m)\u001b[0m\u001b[0;34m\u001b[0m\u001b[0;34m\u001b[0m\u001b[0m\n\u001b[1;32m     26\u001b[0m       \u001b[0;32mreturn\u001b[0m \u001b[0;32mFalse\u001b[0m\u001b[0;34m\u001b[0m\u001b[0;34m\u001b[0m\u001b[0m\n",
            "\u001b[0;32m<ipython-input-199-b04bae17f6df>\u001b[0m in \u001b[0;36mFindBPpoint\u001b[0;34m(NBP, ttarget)\u001b[0m\n\u001b[1;32m      9\u001b[0m       \u001b[0msta\u001b[0m\u001b[0;34m.\u001b[0m\u001b[0mappend\u001b[0m\u001b[0;34m(\u001b[0m\u001b[0mt\u001b[0m\u001b[0;34m)\u001b[0m\u001b[0;34m\u001b[0m\u001b[0;34m\u001b[0m\u001b[0m\n\u001b[1;32m     10\u001b[0m     \u001b[0;32melse\u001b[0m\u001b[0;34m:\u001b[0m\u001b[0;34m\u001b[0m\u001b[0;34m\u001b[0m\u001b[0m\n\u001b[0;32m---> 11\u001b[0;31m       \u001b[0mtmeas\u001b[0m \u001b[0;34m=\u001b[0m \u001b[0msta\u001b[0m\u001b[0;34m.\u001b[0m\u001b[0mpop\u001b[0m\u001b[0;34m(\u001b[0m\u001b[0;34m)\u001b[0m\u001b[0;34m\u001b[0m\u001b[0;34m\u001b[0m\u001b[0m\n\u001b[0m\u001b[1;32m     12\u001b[0m       \u001b[0;32mbreak\u001b[0m\u001b[0;34m\u001b[0m\u001b[0;34m\u001b[0m\u001b[0m\n\u001b[1;32m     13\u001b[0m   \u001b[0;32mif\u001b[0m \u001b[0mttarget\u001b[0m \u001b[0;34m-\u001b[0m \u001b[0mtmeas\u001b[0m \u001b[0;34m>\u001b[0m \u001b[0;36m200\u001b[0m\u001b[0;34m:\u001b[0m \u001b[0;31m# if measurement is too far to be valid\u001b[0m\u001b[0;34m\u001b[0m\u001b[0;34m\u001b[0m\u001b[0m\n",
            "\u001b[0;31mIndexError\u001b[0m: pop from empty list"
          ]
        }
      ]
    },
    {
      "cell_type": "code",
      "source": [
        "# Wv_NI_SBP[Wv_NI_SBP['Time'] == 3.95881]['Solar8000/NIBP_SBP'].values[0]\n",
        "# Wv_NI_SBP\n",
        "index_BPbreak\n",
        "index\n",
        "id = TracksList[(TracksList['tname'] == \"Solar8000/NIBP_SBP\") & (TracksList['caseid'] == 48)]['tid'].values[0]\n",
        "id"
      ],
      "metadata": {
        "id": "HbVkLIFBQ-Ny",
        "colab": {
          "base_uri": "https://localhost:8080/",
          "height": 35
        },
        "outputId": "9173be22-f73c-4d4a-c9b9-bfffe07a4f54"
      },
      "execution_count": 191,
      "outputs": [
        {
          "output_type": "execute_result",
          "data": {
            "text/plain": [
              "'c54b9638a332492abf0094e1954e3d408e77ff83'"
            ],
            "application/vnd.google.colaboratory.intrinsic+json": {
              "type": "string"
            }
          },
          "metadata": {},
          "execution_count": 191
        }
      ]
    }
  ]
}